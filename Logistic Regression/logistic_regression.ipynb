{
  "nbformat": 4,
  "nbformat_minor": 0,
  "metadata": {
    "colab": {
      "provenance": []
    },
    "kernelspec": {
      "name": "python3",
      "display_name": "Python 3"
    },
    "language_info": {
      "name": "python"
    }
  },
  "cells": [
    {
      "cell_type": "code",
      "source": [
        "import numpy as np                  # Scientific computing\n",
        "import matplotlib.pyplot as plt     # plot graphs\n",
        "import matplotlib.lines as mlines\n",
        "import sklearn.datasets\n",
        "import h5py                         # work with dataset stored in H5 files\n",
        "import scipy                        # use your own pictures\n",
        "import math\n",
        "from PIL import Image               # use your own pictures\n",
        "from scipy import ndimage\n",
        "from scipy.special import expit     # expit is the sigmoid function\n",
        "from sklearn.metrics import log_loss\n",
        "\n",
        "%matplotlib inline"
      ],
      "metadata": {
        "id": "QhWa7MmivwvL"
      },
      "execution_count": null,
      "outputs": []
    },
    {
      "cell_type": "code",
      "source": [
        "np.random.seed(7)\n",
        "X1_raw, Y1_raw = sklearn.datasets.make_classification(n_samples = 100, n_features=2, \n",
        "                            n_redundant=0, n_informative=1,\n",
        "                            n_clusters_per_class=1)\n",
        "\n"
      ],
      "metadata": {
        "id": "ZnLvMOIcd8eD"
      },
      "execution_count": null,
      "outputs": []
    },
    {
      "cell_type": "code",
      "source": [
        "X1 = np.transpose(X1_raw)\n",
        "Y1 = Y1_raw.reshape(1, Y1_raw.shape[0])\n",
        "X = np.vstack((np.ones((1,100)), X1))\n",
        "Y = Y1"
      ],
      "metadata": {
        "id": "1cs_9i6g067a"
      },
      "execution_count": null,
      "outputs": []
    },
    {
      "cell_type": "code",
      "source": [
        "def init_parameters(n):\n",
        "  np.random.seed(2)\n",
        "  # -- start of your code\n",
        "  w = np.zeros(n+1)\n",
        "  w= np.reshape(w,(n+1,1))\n",
        "\n",
        "  # -- end of your code\n",
        "  assert(w.shape == (n+1,1))\n",
        "  return (w)"
      ],
      "metadata": {
        "id": "ap_eGTEGAWPD"
      },
      "execution_count": null,
      "outputs": []
    },
    {
      "cell_type": "code",
      "source": [
        "def forward_pass(X, w):\n",
        "\n",
        "  # -- start of your code\n",
        "  B = np.matmul(np.transpose(w),X)\n",
        "  A = scipy.special.expit(B)\n",
        "  # -- end of your code\n",
        "  \n",
        "  assert(A.shape == (1, X.shape[1]))\n",
        "  return A"
      ],
      "metadata": {
        "id": "nVjoRi4IduWi"
      },
      "execution_count": null,
      "outputs": []
    },
    {
      "cell_type": "code",
      "source": [
        "def calculate_loss(A,Y):\n",
        "\n",
        "  # -- start of your code\n",
        "\n",
        "  L = []\n",
        "  for x in range(A[0].size):\n",
        "   if Y[0,x] == 0 :\n",
        "     L.append(-math.log(1-A[0,x]))\n",
        "   else :\n",
        "     L.append(-math.log(A[0,x]))\n",
        "\n",
        "  L = np.array(L) # list to array to use reshape()\n",
        "  L = L.reshape(Y.shape)\n",
        " \n",
        "  # -- end of your code\n",
        "  \n",
        "  assert(L.shape == Y.shape)\n",
        "  return L"
      ],
      "metadata": {
        "id": "2xFhXP-63cjW"
      },
      "execution_count": null,
      "outputs": []
    },
    {
      "cell_type": "code",
      "source": [
        "def calculate_cost(loss):\n",
        "\n",
        "  # -- start of your code\n",
        "  \n",
        "  cost = np.sum(loss) / m\n",
        "\n",
        "  # -- end of your code\n",
        "  \n",
        "  assert(isinstance(cost, float) or isinstance(cost, int))\n",
        "  cost = np.squeeze(cost)\n",
        "  assert(cost.shape == ())\n",
        "\n",
        "  return(cost)"
      ],
      "metadata": {
        "id": "tIKsrZI5-yvS"
      },
      "execution_count": null,
      "outputs": []
    },
    {
      "cell_type": "code",
      "source": [
        "def calculate_gradients(X, Y, A):\n",
        "\n",
        "  # -- start of your code\n",
        "  dw = np.matmul(X,np.transpose(A-Y)) / m\n",
        "  # -- end of your code\n",
        "\n",
        "  assert(dw.shape == (X.shape[0],1))\n",
        "  return dw"
      ],
      "metadata": {
        "id": "cyAxFeopPUH8"
      },
      "execution_count": null,
      "outputs": []
    },
    {
      "cell_type": "code",
      "source": [
        "def update_parameters(w, dw, learning_rate = 0.01):\n",
        "\n",
        "  # -- start of your code\n",
        "  w_new = w - (learning_rate * dw)\n",
        "  # -- end of your code\n",
        "\n",
        "  assert(w_new.shape == w.shape)\n",
        "  return w_new"
      ],
      "metadata": {
        "id": "iRajwTYBPn8r"
      },
      "execution_count": null,
      "outputs": []
    },
    {
      "cell_type": "code",
      "source": [
        "# the decision boundary (determine two points on the line)\n",
        "w = init_parameters(2)\n",
        "xp = np.array((-2, 2.6))\n",
        "yp = -(w[0] + w[1] * xp) / w[2]\n",
        "\n",
        "# plot decision boundaries\n",
        "# Visualize the data:\n",
        "colors=[\"y\", \"r\", \"g\", \"b\", \"c\", \"m\"]\n",
        "fig, ax = plt.subplots()\n",
        "ax.scatter(X1_raw[:, 0], X1_raw[:, 1], marker='o', c=Y1_raw, s=25, edgecolor='k')\n",
        "plt.axis([-2, 2.5, -2.5, 2.5])\n",
        "plt.plot(xp, yp,\"r-\")\n",
        "plt.show()"
      ],
      "metadata": {
        "colab": {
          "base_uri": "https://localhost:8080/",
          "height": 265
        },
        "id": "QGJPxljkC2fT",
        "outputId": "3fe4c9f5-a5d3-4874-db6c-961467e7dead"
      },
      "execution_count": null,
      "outputs": [
        {
          "output_type": "display_data",
          "data": {
            "text/plain": [
              "<Figure size 432x288 with 1 Axes>"
            ],
            "image/png": "[encoded data removed]"
          },
          "metadata": {
            "needs_background": "light"
          }
        }
      ]
    },
    {
      "cell_type": "code",
      "source": [
        "# dataset stored in X and Y\n",
        "n = X.shape[0] - 1  # number of features\n",
        "m = X.shape[1]      # number of examples/datapoints"
      ],
      "metadata": {
        "id": "M-woaWu37UP9"
      },
      "execution_count": null,
      "outputs": []
    },
    {
      "cell_type": "code",
      "source": [
        "w = init_parameters(n)\n",
        "print(w)"
      ],
      "metadata": {
        "colab": {
          "base_uri": "https://localhost:8080/"
        },
        "id": "5cpkDHPS7biz",
        "outputId": "8fc7f513-912e-4a38-8460-824206c2e41e"
      },
      "execution_count": null,
      "outputs": [
        {
          "output_type": "stream",
          "name": "stdout",
          "text": [
            "[[-0.1280102 ]\n",
            " [-0.94814754]\n",
            " [ 0.09932496]]\n"
          ]
        }
      ]
    },
    {
      "cell_type": "code",
      "source": [
        "A = forward_pass(X, w)\n",
        "print(A)"
      ],
      "metadata": {
        "colab": {
          "base_uri": "https://localhost:8080/"
        },
        "id": "kIN5fiHY7b0_",
        "outputId": "9440df56-7c2d-44ce-a523-41954acc8e41"
      },
      "execution_count": null,
      "outputs": [
        {
          "output_type": "stream",
          "name": "stdout",
          "text": [
            "[[0.22130376 0.61692888 0.24077207 0.50425574 0.35663404 0.13140113\n",
            "  0.81029944 0.55390586 0.61878461 0.31539829 0.64299467 0.78654594\n",
            "  0.6770538  0.14989414 0.3353656  0.11770101 0.25886383 0.32522852\n",
            "  0.68200914 0.55448089 0.75283331 0.59513118 0.63300093 0.68708604\n",
            "  0.20318097 0.27361418 0.62566584 0.76796188 0.37805344 0.6612072\n",
            "  0.38796268 0.71004677 0.73850425 0.19540485 0.13245426 0.25006457\n",
            "  0.23708639 0.12385457 0.72928925 0.33519436 0.1851564  0.12966319\n",
            "  0.48964319 0.2353455  0.77054299 0.2103205  0.69004183 0.4851844\n",
            "  0.77138086 0.78727538 0.21237056 0.58632846 0.72488738 0.69743062\n",
            "  0.71446803 0.47830532 0.6548849  0.62651255 0.60252034 0.71669347\n",
            "  0.71296953 0.51674888 0.76851629 0.16267893 0.28966579 0.72238575\n",
            "  0.21345147 0.55901012 0.70235492 0.28416308 0.44923814 0.41781706\n",
            "  0.34770031 0.72958199 0.78481384 0.64385511 0.072192   0.71696376\n",
            "  0.70831917 0.82331186 0.30121593 0.66297626 0.2508978  0.35750572\n",
            "  0.73031217 0.49730365 0.62835765 0.72902952 0.22539211 0.7073127\n",
            "  0.69368936 0.19582923 0.78288229 0.09304214 0.21609534 0.60876928\n",
            "  0.22855595 0.57085569 0.20606044 0.66786113]]\n"
          ]
        }
      ]
    },
    {
      "cell_type": "code",
      "source": [
        "loss = calculate_loss(A,Y)\n",
        "print(loss)"
      ],
      "metadata": {
        "colab": {
          "base_uri": "https://localhost:8080/"
        },
        "id": "6TKIjir-7b56",
        "outputId": "291a7922-491a-4949-9928-2624824f0d5a"
      },
      "execution_count": null,
      "outputs": [
        {
          "output_type": "stream",
          "name": "stdout",
          "text": [
            "[[1.50821906 0.95953462 1.42390455 0.68467172 1.03104511 2.02950055\n",
            "  1.66230843 0.80722527 0.96439072 1.15391902 1.03000456 1.54433366\n",
            "  1.13026953 1.89782595 1.092534   2.13960766 1.3514531  1.12322722\n",
            "  1.14573263 0.58972294 1.39769232 0.90419217 1.00239596 1.16182701\n",
            "  1.59365823 1.29603628 0.98260639 1.46085362 0.97271972 1.08236658\n",
            "  0.94684612 1.23803565 1.34133727 1.6326817  2.0215179  1.3860361\n",
            "  1.43933068 2.08864722 1.30670438 1.09304473 1.68655441 2.04281507\n",
            "  0.71407835 1.44670063 1.47203961 1.55912272 1.17131792 0.72322625\n",
            "  1.47569782 1.54775683 1.54942262 0.882683   1.29057474 1.19544468\n",
            "  1.25340128 0.73750601 1.0638773  0.98487087 0.92261152 1.26122584\n",
            "  1.24816691 0.66019825 1.46324575 1.81597677 1.23902748 1.28152272\n",
            "  1.54434578 0.5815877  1.21185349 1.25820696 0.80020215 0.87271159\n",
            "  1.05641434 1.30778634 1.53625178 0.44028156 2.628426   1.26218032\n",
            "  1.23209513 1.73336905 1.1999279  1.08760191 1.38270961 1.0286039\n",
            "  1.31049018 0.68776897 0.9898233  1.30574539 1.48991369 1.22865047\n",
            "  1.18315553 1.63051229 1.52731565 2.37470282 1.53203558 0.93845781\n",
            "  1.47597426 0.84596204 1.57958576 1.10220213]]\n"
          ]
        }
      ]
    },
    {
      "cell_type": "code",
      "source": [
        "cost = calculate_cost(loss)\n",
        "print(cost)"
      ],
      "metadata": {
        "colab": {
          "base_uri": "https://localhost:8080/"
        },
        "id": "DLWAy8Tb7fkf",
        "outputId": "62d03d1b-5b78-4732-dff5-423d9915171d"
      },
      "execution_count": null,
      "outputs": [
        {
          "output_type": "stream",
          "name": "stdout",
          "text": [
            "1.276738770769144\n"
          ]
        }
      ]
    },
    {
      "cell_type": "code",
      "source": [
        "dw = calculate_gradients(X, Y, A)\n",
        "print (\"dw = \" + str(dw))"
      ],
      "metadata": {
        "colab": {
          "base_uri": "https://localhost:8080/"
        },
        "id": "nDwb1PuI7g6A",
        "outputId": "64f0d1d7-3964-4c8b-8642-758350f41ba5"
      },
      "execution_count": null,
      "outputs": [
        {
          "output_type": "stream",
          "name": "stdout",
          "text": [
            "dw = [[-0.00933943]\n",
            " [-0.73740725]\n",
            " [-0.05732144]]\n"
          ]
        }
      ]
    },
    {
      "cell_type": "code",
      "source": [
        "# update parameters\n",
        "\n",
        "# Note: The size of the step is controlled by the learning_rate\n",
        "learning_rate = 0.001\n",
        "\n",
        "print(\"Parameters and Cost Before Update\")\n",
        "print(\"w = \" + str(w))\n",
        "print(\"Cost = \" + str(cost))\n",
        "\n",
        "w = update_parameters(w,dw, learning_rate)\n",
        "\n",
        "print(\"\\nParameters and Cost After Update\")\n",
        "print(\"w = \" + str(w))\n",
        "\n",
        "A = forward_pass(X, w)\n",
        "loss = calculate_loss(A,Y)\n",
        "cost = calculate_cost(loss)\n",
        "print(\"Cost = \" + str(cost))"
      ],
      "metadata": {
        "colab": {
          "base_uri": "https://localhost:8080/"
        },
        "id": "2-3hzEfw7iyk",
        "outputId": "a023675b-8044-4a9f-95bd-cd29c8dec0d5"
      },
      "execution_count": null,
      "outputs": [
        {
          "output_type": "stream",
          "name": "stdout",
          "text": [
            "Parameters and Cost Before Update\n",
            "w = [[-0.1280102 ]\n",
            " [-0.94814754]\n",
            " [ 0.09932496]]\n",
            "Cost = 0.07818521103562198\n",
            "\n",
            "Parameters and Cost After Update\n",
            "w = [[-0.12800715]\n",
            " [-0.94814018]\n",
            " [ 0.09932614]]\n",
            "Cost = 1.2767332466564074\n"
          ]
        }
      ]
    },
    {
      "cell_type": "code",
      "source": [
        "# dataset\n",
        "n = X.shape[0] - 1  # number of features\n",
        "m = X.shape[1]      # number of examples/datapoints\n",
        "\n",
        "# init parameters, set hyperparameters\n",
        "w = init_parameters(n)\n",
        "learning_rate = 0.01\n",
        "num_iterations = 2000\n",
        "costs = []\n",
        "\n",
        "\n",
        "for i in range(num_iterations):\n",
        "  # -- start of your code\n",
        "  A = forward_pass(X, w)\n",
        "  loss = calculate_loss(A,Y)\n",
        "  cost = calculate_cost(loss)\n",
        "\n",
        "  if i % 100 == 0:\n",
        "    costs.append(cost)\n",
        "\n",
        "  dw = calculate_gradients(X, Y, A)\n",
        "  w = update_parameters(w,dw, learning_rate)\n",
        "  # -- end of your code\n",
        "\n",
        "  if i%100 == 0:\n",
        "    print (\"Cost after iteration %i: %f\" %(i, cost))"
      ],
      "metadata": {
        "colab": {
          "base_uri": "https://localhost:8080/"
        },
        "id": "gx-UIcKX8c2z",
        "outputId": "b9344a5f-9309-49c2-8dab-82d2919c061a"
      },
      "execution_count": null,
      "outputs": [
        {
          "output_type": "stream",
          "name": "stdout",
          "text": [
            "Cost after iteration 0: 0.693147\n",
            "Cost after iteration 100: 0.513419\n",
            "Cost after iteration 200: 0.411822\n",
            "Cost after iteration 300: 0.349010\n",
            "Cost after iteration 400: 0.306892\n",
            "Cost after iteration 500: 0.276795\n",
            "Cost after iteration 600: 0.254215\n",
            "Cost after iteration 700: 0.236623\n",
            "Cost after iteration 800: 0.222501\n",
            "Cost after iteration 900: 0.210889\n",
            "Cost after iteration 1000: 0.201152\n",
            "Cost after iteration 1100: 0.192852\n",
            "Cost after iteration 1200: 0.185680\n",
            "Cost after iteration 1300: 0.179410\n",
            "Cost after iteration 1400: 0.173872\n",
            "Cost after iteration 1500: 0.168939\n",
            "Cost after iteration 1600: 0.164510\n",
            "Cost after iteration 1700: 0.160508\n",
            "Cost after iteration 1800: 0.156869\n",
            "Cost after iteration 1900: 0.153543\n"
          ]
        }
      ]
    },
    {
      "cell_type": "code",
      "source": [
        "# Plot learning curve (with costs)\n",
        "costs = np.squeeze(costs)\n",
        "plt.plot(costs)\n",
        "plt.ylabel('cost')\n",
        "plt.xlabel('iterations (per hundreds)')\n",
        "plt.title(\"Learning rate =\" + str(learning_rate))\n",
        "plt.show()"
      ],
      "metadata": {
        "colab": {
          "base_uri": "https://localhost:8080/",
          "height": 295
        },
        "id": "zOHB7FpP8fr8",
        "outputId": "8d00e948-c99a-4dbc-c40c-ee8f2283841b"
      },
      "execution_count": null,
      "outputs": [
        {
          "output_type": "display_data",
          "data": {
            "text/plain": [
              "<Figure size 432x288 with 1 Axes>"
            ],
            "image/png": "[encoded data removed]"
          },
          "metadata": {
            "needs_background": "light"
          }
        }
      ]
    },
    {
      "cell_type": "code",
      "source": [
        "# -- start of your code\n",
        "prediction = forward_pass(X, w)\n",
        "prediction = (prediction >= 0.5).astype(int)\n",
        "accuracy = 1 - np.mean(np.abs(Y1_raw - prediction))\n",
        "\n",
        "# -- end of your code\n",
        "\n",
        "print(\"Train accuracy: {} %\".format(accuracy))"
      ],
      "metadata": {
        "colab": {
          "base_uri": "https://localhost:8080/"
        },
        "id": "wFEpPl0h8g02",
        "outputId": "9e730012-dd8c-40f7-88a4-6222ea32572b"
      },
      "execution_count": null,
      "outputs": [
        {
          "output_type": "stream",
          "name": "stdout",
          "text": [
            "Train accuracy: 0.98 %\n"
          ]
        }
      ]
    }
  ]
}